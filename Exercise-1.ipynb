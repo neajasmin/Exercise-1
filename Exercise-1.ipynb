{
 "cells": [
  {
   "cell_type": "code",
   "execution_count": 1,
   "id": "e6d4fadf-d76b-4036-93c4-811ca1fccabe",
   "metadata": {},
   "outputs": [],
   "source": [
    "ice_cream_rating = 10\n",
    "sleeping_rating = 10"
   ]
  },
  {
   "cell_type": "code",
   "execution_count": 5,
   "id": "c0e86b3f-2def-4d61-aca0-92329a0c4322",
   "metadata": {},
   "outputs": [],
   "source": [
    "first_name = \"Nea\"\n",
    "last_name = \" Tiainen\"\n",
    "my_name = first_name + last_name"
   ]
  },
  {
   "cell_type": "code",
   "execution_count": 6,
   "id": "e4bc7da2-5ae0-4d23-b17f-7a7193243e2b",
   "metadata": {},
   "outputs": [],
   "source": [
    "happiness_rating = (ice_cream_rating + sleeping_rating)/2"
   ]
  },
  {
   "cell_type": "code",
   "execution_count": 19,
   "id": "3da1e2ef-de45-43c3-a443-b1d9fd936f57",
   "metadata": {},
   "outputs": [
    {
     "name": "stdout",
     "output_type": "stream",
     "text": [
      "<class 'int'> <class 'str'> <class 'float'>\n"
     ]
    }
   ],
   "source": [
    "print(type(ice_cream_rating), type(first_name), type(happiness_rating))"
   ]
  },
  {
   "cell_type": "markdown",
   "id": "f4c4165d-c924-4603-b1c6-5c908903a953",
   "metadata": {},
   "source": [
    "#All data types made sense."
   ]
  },
  {
   "cell_type": "code",
   "execution_count": 26,
   "id": "bd802d73-7cf3-48a6-b6b9-14311dc7bb36",
   "metadata": {},
   "outputs": [
    {
     "name": "stdout",
     "output_type": "stream",
     "text": [
      "My name is Nea and I give eating ice cream a score of 10 out of 10!\n",
      "I am Nea Tiainen and my sleeping enjoyment rating is 10 / 10!\n",
      " Based on the factors above, my happiness rating is 10.0 out of 10, or 100.0 %!\n"
     ]
    }
   ],
   "source": [
    "print(\"My name is\", first_name, \"and I give eating ice cream a score of\", ice_cream_rating, \"out of 10!\\n\"\n",
    "      \"I am\", my_name, \"and my sleeping enjoyment rating is\", sleeping_rating, \"/ 10!\\n\"\n",
    "        \" Based on the factors above, my happiness rating is\", happiness_rating, \"out of 10, or\", happiness_rating*10, \"%!\")\n",
    "        "
   ]
  }
 ],
 "metadata": {
  "kernelspec": {
   "display_name": "Python 3 (ipykernel)",
   "language": "python",
   "name": "python3"
  },
  "language_info": {
   "codemirror_mode": {
    "name": "ipython",
    "version": 3
   },
   "file_extension": ".py",
   "mimetype": "text/x-python",
   "name": "python",
   "nbconvert_exporter": "python",
   "pygments_lexer": "ipython3",
   "version": "3.11.6"
  }
 },
 "nbformat": 4,
 "nbformat_minor": 5
}
